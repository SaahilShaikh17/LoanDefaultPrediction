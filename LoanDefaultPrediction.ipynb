{
  "nbformat": 4,
  "nbformat_minor": 0,
  "metadata": {
    "colab": {
      "provenance": [],
      "include_colab_link": true
    },
    "kernelspec": {
      "name": "ir",
      "display_name": "R"
    },
    "language_info": {
      "name": "R"
    }
  },
  "cells": [
    {
      "cell_type": "markdown",
      "metadata": {
        "id": "view-in-github",
        "colab_type": "text"
      },
      "source": [
        "<a href=\"https://colab.research.google.com/github/SaahilShaikh17/LoanDefaultPrediction/blob/main/LoanDefaultPrediction.ipynb\" target=\"_parent\"><img src=\"https://colab.research.google.com/assets/colab-badge.svg\" alt=\"Open In Colab\"/></a>"
      ]
    },
    {
      "cell_type": "code",
      "execution_count": 1,
      "metadata": {
        "id": "cGba5RGi4xGn"
      },
      "outputs": [],
      "source": [
        "library(readr)\n"
      ]
    },
    {
      "cell_type": "code",
      "source": [
        "url <- \"https://github.com/SaahilShaikh17/LoanDefaultPrediction/blob/main/Training%20Data.csv\"\n",
        "\n",
        "df <- read.csv(url)"
      ],
      "metadata": {
        "id": "ysmVBAtWk6QP",
        "colab": {
          "base_uri": "https://localhost:8080/"
        },
        "outputId": "f8eade09-b1f4-4baf-cfcf-4ac8a8df9f45"
      },
      "execution_count": 3,
      "outputs": [
        {
          "output_type": "stream",
          "name": "stderr",
          "text": [
            "Warning message in read.table(file = file, header = header, sep = sep, quote = quote, :\n",
            "“incomplete final line found by readTableHeader on 'https://github.com/SaahilShaikh17/LoanDefaultPrediction/blob/main/Training%20Data.csv'”\n"
          ]
        }
      ]
    },
    {
      "cell_type": "code",
      "source": [],
      "metadata": {
        "id": "-f1nTQaAm4Qh"
      },
      "execution_count": null,
      "outputs": []
    },
    {
      "cell_type": "code",
      "source": [],
      "metadata": {
        "id": "oupcx13gm4_1"
      },
      "execution_count": null,
      "outputs": []
    }
  ]
}