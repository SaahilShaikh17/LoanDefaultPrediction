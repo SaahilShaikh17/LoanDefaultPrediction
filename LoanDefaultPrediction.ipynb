{
  "nbformat": 4,
  "nbformat_minor": 0,
  "metadata": {
    "colab": {
      "provenance": [],
      "include_colab_link": true
    },
    "kernelspec": {
      "name": "ir",
      "display_name": "R"
    },
    "language_info": {
      "name": "R"
    }
  },
  "cells": [
    {
      "cell_type": "markdown",
      "metadata": {
        "id": "view-in-github",
        "colab_type": "text"
      },
      "source": [
        "<a href=\"https://colab.research.google.com/github/SaahilShaikh17/LoanDefaultPrediction/blob/main/LoanDefaultPrediction.ipynb\" target=\"_parent\"><img src=\"https://colab.research.google.com/assets/colab-badge.svg\" alt=\"Open In Colab\"/></a>"
      ]
    },
    {
      "cell_type": "markdown",
      "source": [
        "#LOAN DEFAULT PREDICTION-R PROGRAMMING\n"
      ],
      "metadata": {
        "id": "3h1YrtLDxWkb"
      }
    },
    {
      "cell_type": "markdown",
      "source": [
        "##Importing Libraries"
      ],
      "metadata": {
        "id": "fHfyW0IyxqZD"
      }
    },
    {
      "cell_type": "code",
      "source": [
        "install.packages(\"readr\")\n",
        "library(readr)"
      ],
      "metadata": {
        "colab": {
          "base_uri": "https://localhost:8080/"
        },
        "id": "KTtjaC0gmd5E",
        "outputId": "f17da5c1-a29d-4bb2-a659-69e2eb7d60b7"
      },
      "execution_count": 13,
      "outputs": [
        {
          "output_type": "stream",
          "name": "stderr",
          "text": [
            "Installing package into ‘/usr/local/lib/R/site-library’\n",
            "(as ‘lib’ is unspecified)\n",
            "\n"
          ]
        }
      ]
    },
    {
      "cell_type": "markdown",
      "source": [
        "##"
      ],
      "metadata": {
        "id": "wFovj_QOx1CR"
      }
    },
    {
      "cell_type": "code",
      "execution_count": 16,
      "metadata": {
        "id": "cGba5RGi4xGn"
      },
      "outputs": [],
      "source": [
        "\n",
        "df <- read.csv(\"https://raw.githubusercontent.com/SaahilShaikh17/LoanDefaultPrediction/main/Training%20Data.csv\")"
      ]
    },
    {
      "cell_type": "code",
      "source": [
        "head(df)"
      ],
      "metadata": {
        "id": "ysmVBAtWk6QP",
        "colab": {
          "base_uri": "https://localhost:8080/",
          "height": 257
        },
        "outputId": "c012c2c3-6e01-4c35-cd98-2f495b5274e2"
      },
      "execution_count": 10,
      "outputs": [
        {
          "output_type": "stream",
          "name": "stderr",
          "text": [
            "Warning message in cbind(parts$left, chars$ellip_h, parts$right, deparse.level = 0L):\n",
            "“number of rows of result is not a multiple of vector length (arg 2)”\n",
            "Warning message in cbind(parts$left, chars$ellip_h, parts$right, deparse.level = 0L):\n",
            "“number of rows of result is not a multiple of vector length (arg 2)”\n",
            "Warning message in cbind(parts$left, chars$ellip_h, parts$right, deparse.level = 0L):\n",
            "“number of rows of result is not a multiple of vector length (arg 2)”\n",
            "Warning message in cbind(parts$left, chars$ellip_h, parts$right, deparse.level = 0L):\n",
            "“number of rows of result is not a multiple of vector length (arg 2)”\n"
          ]
        },
        {
          "output_type": "display_data",
          "data": {
            "text/html": [
              "<table class=\"dataframe\">\n",
              "<caption>A data.frame: 0 × 119</caption>\n",
              "<thead>\n",
              "\t<tr><th scope=col>X.payload..allShortcutsEnabled.false</th><th scope=col>fileTree....items...name.LoanDefaultPrediction.ipynb</th><th scope=col>path.LoanDefaultPrediction.ipynb</th><th scope=col>contentType.file.</th><th scope=col>X.name.Sample.Prediction.Dataset.csv</th><th scope=col>path.Sample.Prediction.Dataset.csv</th><th scope=col>contentType.file..1</th><th scope=col>X.name.Test.Data.csv</th><th scope=col>path.Test.Data.csv</th><th scope=col>contentType.file..2</th><th scope=col>⋯</th><th scope=col>symbols..timedOut.true</th><th scope=col>notAnalyzed.true</th><th scope=col>symbols...</th><th scope=col>error..code.invalid_argument</th><th scope=col>msg.content.required</th><th scope=col>meta......</th><th scope=col>copilotInfo.null</th><th scope=col>csrf_tokens...SaahilShaikh17.LoanDefaultPrediction.branches..post.2F9tq2khGVwTqt0eiOY5NaU2HRUPi.KLARS.ZvPolm9fEL.CW6kq9FzQi7MuKaXSTQnKeCu2f1LVHSE8juL2lQ.</th><th scope=col>X.repos.preferences..post.1Fbby68ud8rRp_Gcpt0OFeBJjooMfPqFx2WE5.HmcBgj49ueyrQGNuYFfuNP8KGs4raLpb3v0PoA.TjJ4BTizw...</th><th scope=col>title.LoanDefaultPrediction.Training.Data.csv.at.main...SaahilShaikh17.LoanDefaultPrediction.</th></tr>\n",
              "\t<tr><th scope=col>&lt;lgl&gt;</th><th scope=col>&lt;lgl&gt;</th><th scope=col>&lt;lgl&gt;</th><th scope=col>&lt;lgl&gt;</th><th scope=col>&lt;lgl&gt;</th><th scope=col>&lt;lgl&gt;</th><th scope=col>&lt;lgl&gt;</th><th scope=col>&lt;lgl&gt;</th><th scope=col>&lt;lgl&gt;</th><th scope=col>&lt;lgl&gt;</th><th scope=col>⋯</th><th scope=col>&lt;lgl&gt;</th><th scope=col>&lt;lgl&gt;</th><th scope=col>&lt;lgl&gt;</th><th scope=col>&lt;lgl&gt;</th><th scope=col>&lt;lgl&gt;</th><th scope=col>&lt;lgl&gt;</th><th scope=col>&lt;lgl&gt;</th><th scope=col>&lt;lgl&gt;</th><th scope=col>&lt;lgl&gt;</th><th scope=col>&lt;lgl&gt;</th></tr>\n",
              "</thead>\n",
              "<tbody>\n",
              "</tbody>\n",
              "</table>\n"
            ],
            "text/markdown": "\nA data.frame: 0 × 119\n\n| X.payload..allShortcutsEnabled.false &lt;lgl&gt; | fileTree....items...name.LoanDefaultPrediction.ipynb &lt;lgl&gt; | path.LoanDefaultPrediction.ipynb &lt;lgl&gt; | contentType.file. &lt;lgl&gt; | X.name.Sample.Prediction.Dataset.csv &lt;lgl&gt; | path.Sample.Prediction.Dataset.csv &lt;lgl&gt; | contentType.file..1 &lt;lgl&gt; | X.name.Test.Data.csv &lt;lgl&gt; | path.Test.Data.csv &lt;lgl&gt; | contentType.file..2 &lt;lgl&gt; | ⋯ ⋯ | symbols..timedOut.true &lt;lgl&gt; | notAnalyzed.true &lt;lgl&gt; | symbols... &lt;lgl&gt; | error..code.invalid_argument &lt;lgl&gt; | msg.content.required &lt;lgl&gt; | meta...... &lt;lgl&gt; | copilotInfo.null &lt;lgl&gt; | csrf_tokens...SaahilShaikh17.LoanDefaultPrediction.branches..post.2F9tq2khGVwTqt0eiOY5NaU2HRUPi.KLARS.ZvPolm9fEL.CW6kq9FzQi7MuKaXSTQnKeCu2f1LVHSE8juL2lQ. &lt;lgl&gt; | X.repos.preferences..post.1Fbby68ud8rRp_Gcpt0OFeBJjooMfPqFx2WE5.HmcBgj49ueyrQGNuYFfuNP8KGs4raLpb3v0PoA.TjJ4BTizw... &lt;lgl&gt; | title.LoanDefaultPrediction.Training.Data.csv.at.main...SaahilShaikh17.LoanDefaultPrediction. &lt;lgl&gt; |\n|---|---|---|---|---|---|---|---|---|---|---|---|---|---|---|---|---|---|---|---|---|\n\n",
            "text/latex": "A data.frame: 0 × 119\n\\begin{tabular}{lllllllllllllllllllll}\n X.payload..allShortcutsEnabled.false & fileTree....items...name.LoanDefaultPrediction.ipynb & path.LoanDefaultPrediction.ipynb & contentType.file. & X.name.Sample.Prediction.Dataset.csv & path.Sample.Prediction.Dataset.csv & contentType.file..1 & X.name.Test.Data.csv & path.Test.Data.csv & contentType.file..2 & ⋯ & symbols..timedOut.true & notAnalyzed.true & symbols... & error..code.invalid\\_argument & msg.content.required & meta...... & copilotInfo.null & csrf\\_tokens...SaahilShaikh17.LoanDefaultPrediction.branches..post.2F9tq2khGVwTqt0eiOY5NaU2HRUPi.KLARS.ZvPolm9fEL.CW6kq9FzQi7MuKaXSTQnKeCu2f1LVHSE8juL2lQ. & X.repos.preferences..post.1Fbby68ud8rRp\\_Gcpt0OFeBJjooMfPqFx2WE5.HmcBgj49ueyrQGNuYFfuNP8KGs4raLpb3v0PoA.TjJ4BTizw... & title.LoanDefaultPrediction.Training.Data.csv.at.main...SaahilShaikh17.LoanDefaultPrediction.\\\\\n <lgl> & <lgl> & <lgl> & <lgl> & <lgl> & <lgl> & <lgl> & <lgl> & <lgl> & <lgl> & ⋯ & <lgl> & <lgl> & <lgl> & <lgl> & <lgl> & <lgl> & <lgl> & <lgl> & <lgl> & <lgl>\\\\\n\\hline\n\\end{tabular}\n",
            "text/plain": [
              "     X.payload..allShortcutsEnabled.false\n",
              "     fileTree....items...name.LoanDefaultPrediction.ipynb\n",
              "     path.LoanDefaultPrediction.ipynb contentType.file.\n",
              "     X.name.Sample.Prediction.Dataset.csv path.Sample.Prediction.Dataset.csv\n",
              "     contentType.file..1 X.name.Test.Data.csv path.Test.Data.csv\n",
              "     contentType.file..2 ⋯ symbols..timedOut.true notAnalyzed.true symbols...\n",
              "     error..code.invalid_argument msg.content.required meta......\n",
              "     copilotInfo.null\n",
              "     csrf_tokens...SaahilShaikh17.LoanDefaultPrediction.branches..post.2F9tq2khGVwTqt0eiOY5NaU2HRUPi.KLARS.ZvPolm9fEL.CW6kq9FzQi7MuKaXSTQnKeCu2f1LVHSE8juL2lQ.\n",
              "     X.repos.preferences..post.1Fbby68ud8rRp_Gcpt0OFeBJjooMfPqFx2WE5.HmcBgj49ueyrQGNuYFfuNP8KGs4raLpb3v0PoA.TjJ4BTizw...\n",
              "     title.LoanDefaultPrediction.Training.Data.csv.at.main...SaahilShaikh17.LoanDefaultPrediction."
            ]
          },
          "metadata": {}
        }
      ]
    },
    {
      "cell_type": "code",
      "source": [],
      "metadata": {
        "id": "rLY9-eP5ykI5"
      },
      "execution_count": null,
      "outputs": []
    }
  ]
}